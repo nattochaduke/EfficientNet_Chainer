{
 "cells": [
  {
   "cell_type": "code",
   "execution_count": 1,
   "metadata": {},
   "outputs": [
    {
     "name": "stderr",
     "output_type": "stream",
     "text": [
      "/usr/local/lib/python3.6/dist-packages/chainer/backends/cuda.py:143: UserWarning: cuDNN is not enabled.\n",
      "Please reinstall CuPy after you install cudnn\n",
      "(see https://docs-cupy.chainer.org/en/stable/install.html#install-cudnn).\n",
      "  'cuDNN is not enabled.\\n'\n"
     ]
    }
   ],
   "source": [
    "import time\n",
    "\n",
    "from model.mb_conv_block import MBConvBlock, RepeatedMBConvBlock\n",
    "from model.efficient_net import EfficientNet\n",
    "import chainer\n",
    "from chainer import Variable\n",
    "import numpy as np\n",
    "\n",
    "chainer.global_config.dtype = np.float32"
   ]
  },
  {
   "cell_type": "code",
   "execution_count": 2,
   "metadata": {},
   "outputs": [],
   "source": [
    "arr = np.random.rand(3, 3, 64, 64).astype(np.float32)"
   ]
  },
  {
   "cell_type": "code",
   "execution_count": 3,
   "metadata": {},
   "outputs": [
    {
     "name": "stdout",
     "output_type": "stream",
     "text": [
      "efficientnet-b0\n",
      "model initialization time:  0.5028886795043945 n_params:  8423848\n",
      "forward calculation time:  0.2399156093597412\n",
      "------------------------------------------------------------\n",
      "efficientnet-b1\n",
      "model initialization time:  0.7914462089538574 n_params:  13336204\n",
      "forward calculation time:  0.2613043785095215\n",
      "------------------------------------------------------------\n",
      "efficientnet-b2\n",
      "model initialization time:  0.8393774032592773 n_params:  15678504\n",
      "forward calculation time:  0.3038668632507324\n",
      "------------------------------------------------------------\n",
      "efficientnet-b3\n",
      "model initialization time:  1.1985764503479004 n_params:  21530032\n",
      "forward calculation time:  0.3575022220611572\n",
      "------------------------------------------------------------\n",
      "efficientnet-b4\n",
      "model initialization time:  1.8888139724731445 n_params:  34927246\n",
      "forward calculation time:  0.4048600196838379\n",
      "------------------------------------------------------------\n",
      "efficientnet-b5\n",
      "model initialization time:  3.1188645362854004 n_params:  56146944\n",
      "forward calculation time:  0.680588960647583\n",
      "------------------------------------------------------------\n",
      "efficientnet-b6\n",
      "model initialization time:  4.280219078063965 n_params:  80444154\n",
      "forward calculation time:  0.7423684597015381\n",
      "------------------------------------------------------------\n",
      "efficientnet-b7\n",
      "model initialization time:  6.421557188034058 n_params:  125844160\n",
      "forward calculation time:  1.216526985168457\n",
      "------------------------------------------------------------\n"
     ]
    }
   ],
   "source": [
    "for i in range(8):\n",
    "    print(f'efficientnet-b{i}')\n",
    "    before = time.time()\n",
    "    model = EfficientNet(f'b{i}')\n",
    "    print('model initialization time: ', time.time()-before, 'n_params: ', model.count_params())\n",
    "    before = time.time()\n",
    "    res = model(arr)\n",
    "    print('forward calculation time: ', time.time()-before)\n",
    "    print(60*'-')"
   ]
  },
  {
   "cell_type": "code",
   "execution_count": null,
   "metadata": {},
   "outputs": [],
   "source": []
  }
 ],
 "metadata": {
  "kernelspec": {
   "display_name": "Python 3",
   "language": "python",
   "name": "python3"
  },
  "language_info": {
   "codemirror_mode": {
    "name": "ipython",
    "version": 3
   },
   "file_extension": ".py",
   "mimetype": "text/x-python",
   "name": "python",
   "nbconvert_exporter": "python",
   "pygments_lexer": "ipython3",
   "version": "3.6.5"
  }
 },
 "nbformat": 4,
 "nbformat_minor": 2
}
