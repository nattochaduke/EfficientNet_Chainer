{
 "cells": [
  {
   "cell_type": "code",
   "execution_count": 1,
   "metadata": {},
   "outputs": [
    {
     "name": "stderr",
     "output_type": "stream",
     "text": [
      "/usr/local/lib/python3.6/dist-packages/chainer/backends/cuda.py:143: UserWarning: cuDNN is not enabled.\n",
      "Please reinstall CuPy after you install cudnn\n",
      "(see https://docs-cupy.chainer.org/en/stable/install.html#install-cudnn).\n",
      "  'cuDNN is not enabled.\\n'\n"
     ]
    }
   ],
   "source": [
    "import time\n",
    "\n",
    "from model.mb_conv_block import MBConvBlock, RepeatedMBConvBlock\n",
    "from model.efficient_net import EfficientNet\n",
    "import chainer\n",
    "from chainer import Variable\n",
    "import numpy as np\n",
    "\n",
    "chainer.global_config.dtype = np.float32"
   ]
  },
  {
   "cell_type": "code",
   "execution_count": 2,
   "metadata": {},
   "outputs": [],
   "source": [
    "arr = np.random.rand(3, 3, 64, 64).astype(np.float32)"
   ]
  },
  {
   "cell_type": "code",
   "execution_count": 4,
   "metadata": {},
   "outputs": [
    {
     "name": "stdout",
     "output_type": "stream",
     "text": [
      "efficientnet-b0\n",
      "model initialization time:  0.5005826950073242 n_params(millions):  8.423848\n",
      "forward calculation time:  0.2995944023132324\n",
      "------------------------------------------------------------\n",
      "efficientnet-b1\n",
      "model initialization time:  0.7930214405059814 n_params(millions):  13.336204\n",
      "forward calculation time:  0.2859206199645996\n",
      "------------------------------------------------------------\n",
      "efficientnet-b2\n",
      "model initialization time:  0.8838961124420166 n_params(millions):  15.678504\n",
      "forward calculation time:  0.2858695983886719\n",
      "------------------------------------------------------------\n",
      "efficientnet-b3\n",
      "model initialization time:  1.1972110271453857 n_params(millions):  21.530032\n",
      "forward calculation time:  0.34868764877319336\n",
      "------------------------------------------------------------\n",
      "efficientnet-b4\n",
      "model initialization time:  1.9249815940856934 n_params(millions):  34.927246\n",
      "forward calculation time:  0.5117063522338867\n",
      "------------------------------------------------------------\n",
      "efficientnet-b5\n",
      "model initialization time:  3.087529182434082 n_params(millions):  56.146944\n",
      "forward calculation time:  0.8620097637176514\n",
      "------------------------------------------------------------\n",
      "efficientnet-b6\n",
      "model initialization time:  4.396581172943115 n_params(millions):  80.444154\n",
      "forward calculation time:  0.939063310623169\n",
      "------------------------------------------------------------\n",
      "efficientnet-b7\n",
      "model initialization time:  6.921525001525879 n_params(millions):  125.84416\n",
      "forward calculation time:  1.1488900184631348\n",
      "------------------------------------------------------------\n"
     ]
    }
   ],
   "source": [
    "for i in range(8): # Old model\n",
    "    print(f'efficientnet-b{i}')\n",
    "    before = time.time()\n",
    "    model = EfficientNet(f'b{i}')\n",
    "    print('model initialization time: ', time.time()-before, 'n_params(millions): ', model.count_params()/10**6)\n",
    "    before = time.time()\n",
    "    res = model(arr)\n",
    "    print('forward calculation time: ', time.time()-before)\n",
    "    print(60*'-')"
   ]
  },
  {
   "cell_type": "code",
   "execution_count": 3,
   "metadata": {},
   "outputs": [
    {
     "name": "stdout",
     "output_type": "stream",
     "text": [
      "efficientnet-b0\n",
      "model initialization time:  0.3259544372558594 n_params(millions):  5.288548\n",
      "forward calculation time:  0.18337488174438477\n",
      "------------------------------------------------------------\n",
      "efficientnet-b1\n",
      "model initialization time:  0.46270084381103516 n_params(millions):  7.794184\n",
      "forward calculation time:  0.2612323760986328\n",
      "------------------------------------------------------------\n",
      "efficientnet-b2\n",
      "model initialization time:  0.5029895305633545 n_params(millions):  9.109994\n",
      "forward calculation time:  0.24564790725708008\n",
      "------------------------------------------------------------\n",
      "efficientnet-b3\n",
      "model initialization time:  0.6267035007476807 n_params(millions):  12.233232\n",
      "forward calculation time:  0.26897239685058594\n",
      "------------------------------------------------------------\n",
      "efficientnet-b4\n",
      "model initialization time:  1.0006885528564453 n_params(millions):  19.341616\n",
      "forward calculation time:  0.366788387298584\n",
      "------------------------------------------------------------\n",
      "efficientnet-b5\n",
      "model initialization time:  1.6785318851470947 n_params(millions):  30.389784\n",
      "forward calculation time:  0.4819676876068115\n",
      "------------------------------------------------------------\n",
      "efficientnet-b6\n",
      "model initialization time:  2.1786277294158936 n_params(millions):  43.040704\n",
      "forward calculation time:  0.5860869884490967\n",
      "------------------------------------------------------------\n",
      "efficientnet-b7\n",
      "model initialization time:  3.358506917953491 n_params(millions):  66.34796\n",
      "forward calculation time:  0.8240056037902832\n",
      "------------------------------------------------------------\n"
     ]
    }
   ],
   "source": [
    "for i in range(8): # Correct model\n",
    "    print(f'efficientnet-b{i}')\n",
    "    before = time.time()\n",
    "    model = EfficientNet(f'b{i}')\n",
    "    print('model initialization time: ', time.time()-before, 'n_params(millions): ', model.count_params()/10**6)\n",
    "    before = time.time()\n",
    "    res = model(arr)\n",
    "    print('forward calculation time: ', time.time()-before)\n",
    "    print(60*'-')"
   ]
  },
  {
   "cell_type": "code",
   "execution_count": null,
   "metadata": {},
   "outputs": [],
   "source": []
  }
 ],
 "metadata": {
  "kernelspec": {
   "display_name": "Python 3",
   "language": "python",
   "name": "python3"
  },
  "language_info": {
   "codemirror_mode": {
    "name": "ipython",
    "version": 3
   },
   "file_extension": ".py",
   "mimetype": "text/x-python",
   "name": "python",
   "nbconvert_exporter": "python",
   "pygments_lexer": "ipython3",
   "version": "3.6.5"
  }
 },
 "nbformat": 4,
 "nbformat_minor": 2
}
